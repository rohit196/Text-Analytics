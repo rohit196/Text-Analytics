{
 "cells": [
  {
   "cell_type": "code",
   "execution_count": 3,
   "metadata": {},
   "outputs": [],
   "source": [
    "\n",
    "\n",
    "#Import the necessary Libraries\n",
    "import pandas as pd\n",
    "from docx import Document"
   ]
  },
  {
   "cell_type": "markdown",
   "metadata": {},
   "source": [
    "# Load CSV Data\n",
    "Load quotes from a CSV file using pandas, handling potential encoding issues and different CSV formats."
   ]
  },
  {
   "cell_type": "code",
   "execution_count": 5,
   "metadata": {},
   "outputs": [
    {
     "data": {
      "application/vnd.microsoft.datawrangler.viewer.v0+json": {
       "columns": [
        {
         "name": "index",
         "rawType": "int64",
         "type": "integer"
        },
        {
         "name": "timestamp",
         "rawType": "object",
         "type": "string"
        },
        {
         "name": "chapter",
         "rawType": "object",
         "type": "string"
        },
        {
         "name": "percent",
         "rawType": "object",
         "type": "string"
        },
        {
         "name": "color",
         "rawType": "object",
         "type": "string"
        },
        {
         "name": "quote",
         "rawType": "object",
         "type": "string"
        }
       ],
       "conversionMethod": "pd.DataFrame",
       "ref": "7f803c6e-ff9e-41e8-a051-0dabcc135956",
       "rows": [
        [
         "0",
         "December 20, 2022 04:09",
         "Rule #4: Drain the Shallows",
         "71.8%",
         "#FFB",
         "changing your schedule on paper. For example, returning to our press release example, you might schedule two hours for writing the press release, but then follow it by an additional hour block that you can use to keep writing the release, if needed, but otherwise assign to catching up with e-mail. \n\nThe third tactic I suggest is to be liberal with your use of task blocks. Deploy many throughout your day and make them longer than required to handle the tasks you plan in the morning. Lots of things come up during the typical knowledge worker’s day: Having regularly occurring blocks of time to address these surprises keeps things running smoothly"
        ],
        [
         "1",
         "December 20, 2022 04:09",
         "Rule #4: Drain the Shallows",
         "71.4%",
         "#FFB",
         "When you’re done scheduling your day, every minute should be part of a block. You have, in effect, given every minute of your workday a job. Now as you go through your day, use this schedule to guide you. \n\nIt’s here, of course, that most people will begin to run into trouble. Two things can (and likely will) go wrong with your schedule once the day progresses. The first is that your estimates will prove wrong. You might put aside two hours for writing a press release, for example, and in reality it takes two and a half hours. The second problem is that you’ll be interrupted and new obligations will unexpectedly appear on your plate. These events will also break your schedule. \n\nThis is okay. If your schedule is disrupted, you should, at the next available moment, take a few minutes to create a revised schedule for the time that remains in the day. You can turn to a new page. You can erase and redraw blocks. Or do as I do: Cross out the blocks for the remainder of the day and create new blocks to the right of the old ones on the page (I draw my blocks skinny so I have room for several revisions). On some days, you might rewrite your schedule half a dozen times. Don’t despair if this happens. Your goal is not to stick to a given schedule at all costs; it’s instead to maintain, at all times, a thoughtful say in what you’re doing with your time going forward—even if these decisions are reworked again and again as the day unfolds. \n\nIf you find that schedule revisions become overwhelming in their frequency, there are a few tactics that can inject some more stability. First, you should recognize that almost definitely you’re going to underestimate at first how much time you require for most things. When people are new to this habit, they tend to use their schedule as an incarnation of wishful thinking—a best-case scenario for their day. Over time, you should make an effort to accurately (if not somewhat conservatively) predict the time tasks will require. \n\nThe second tactic that helps is the use of overflow conditional blocks. If you’re not sure how long a given activity might take, block off the expected time, then follow this with an additional block that has a split purpose. If you need more time for the preceding activity, use this additional block to keep working on it. If you finish the activity on time, however, have an alternate use already assigned for the extra block (for example, some nonurgent tasks). This allows unpredictability in your day without requiring you to keep"
        ],
        [
         "2",
         "December 19, 2022 05:08",
         "Rule #4: Drain the Shallows",
         "71.0%",
         "#FFB",
         "Here’s my suggestion: At the beginning of each workday, turn to a new page of lined paper in a notebook you dedicate to this purpose. Down the left-hand side of the page, mark every other line with an hour of the day, covering the full set of hours you typically work. Now comes the important part: Divide the hours of your workday into blocks and assign activities to the blocks. For example, you might block off nine a.m. to eleven a.m. for writing a client’s press release. To do so, actually draw a box that covers the lines corresponding to these hours, then write “press release” inside the box. Not every block need be dedicated to a work task. There might be time blocks for lunch or relaxation breaks. To keep things reasonably clean, the minimum length of a block should be thirty minutes (i.e., one line on your page). This means, for example, that instead of having a unique small box for each small task on your plate for the day—respond to boss’s e-mail, submit reimbursement form, ask Carl about report—you can batch similar things into more generic task blocks. You might find it useful, in this case, to draw a line from a task block to the open right-hand side of the page where you can list out the full set of small tasks you plan to accomplish in that block."
        ],
        [
         "3",
         "December 19, 2022 02:04",
         "Rule #3: Quit Social Media",
         "66.4%",
         "#FFE0EC",
         "These services aren’t necessarily, as advertised, the lifeblood of our modern connected world. They’re just products, developed by private companies, funded lavishly, marketed carefully, and designed ultimately to capture then sell your personal information and attention to advertisers. They can be fun, but in the scheme of your life and what you want to accomplish, they’re a lightweight whimsy, one unimportant distraction among many threatening to derail you from something deeper. Or maybe social media tools are at the core of your existence. You won’t know either way until you sample life without them."
        ],
        [
         "4",
         "December 19, 2022 00:02",
         "Rule #3: Quit Social Media",
         "59.0%",
         "#FFB",
         "This rule attempts to break us out of this rut by proposing a third option: accepting that these tools are not inherently evil, and that some of them might be quite vital to your success and happiness, but at the same time also accepting that the threshold for allowing a site regular access to your time and attention (not to mention personal data) should be much more stringent, and that most people should therefore be using many fewer such tools. I won’t ask you, in other words, to quit the Internet altogether like Baratunde Thurston did for twenty-five days back in 2013. But I will ask you to reject the state of distracted hyperconnectedness that drove him to that drastic experiment in the first place. There is a middle ground, and if you’re interested in developing a deep work habit, you must fight to get there."
        ]
       ],
       "shape": {
        "columns": 5,
        "rows": 5
       }
      },
      "text/html": [
       "<div>\n",
       "<style scoped>\n",
       "    .dataframe tbody tr th:only-of-type {\n",
       "        vertical-align: middle;\n",
       "    }\n",
       "\n",
       "    .dataframe tbody tr th {\n",
       "        vertical-align: top;\n",
       "    }\n",
       "\n",
       "    .dataframe thead th {\n",
       "        text-align: right;\n",
       "    }\n",
       "</style>\n",
       "<table border=\"1\" class=\"dataframe\">\n",
       "  <thead>\n",
       "    <tr style=\"text-align: right;\">\n",
       "      <th></th>\n",
       "      <th>timestamp</th>\n",
       "      <th>chapter</th>\n",
       "      <th>percent</th>\n",
       "      <th>color</th>\n",
       "      <th>quote</th>\n",
       "    </tr>\n",
       "  </thead>\n",
       "  <tbody>\n",
       "    <tr>\n",
       "      <th>0</th>\n",
       "      <td>December 20, 2022 04:09</td>\n",
       "      <td>Rule #4: Drain the Shallows</td>\n",
       "      <td>71.8%</td>\n",
       "      <td>#FFB</td>\n",
       "      <td>changing your schedule on paper. For example, ...</td>\n",
       "    </tr>\n",
       "    <tr>\n",
       "      <th>1</th>\n",
       "      <td>December 20, 2022 04:09</td>\n",
       "      <td>Rule #4: Drain the Shallows</td>\n",
       "      <td>71.4%</td>\n",
       "      <td>#FFB</td>\n",
       "      <td>When you’re done scheduling your day, every mi...</td>\n",
       "    </tr>\n",
       "    <tr>\n",
       "      <th>2</th>\n",
       "      <td>December 19, 2022 05:08</td>\n",
       "      <td>Rule #4: Drain the Shallows</td>\n",
       "      <td>71.0%</td>\n",
       "      <td>#FFB</td>\n",
       "      <td>Here’s my suggestion: At the beginning of each...</td>\n",
       "    </tr>\n",
       "    <tr>\n",
       "      <th>3</th>\n",
       "      <td>December 19, 2022 02:04</td>\n",
       "      <td>Rule #3: Quit Social Media</td>\n",
       "      <td>66.4%</td>\n",
       "      <td>#FFE0EC</td>\n",
       "      <td>These services aren’t necessarily, as advertis...</td>\n",
       "    </tr>\n",
       "    <tr>\n",
       "      <th>4</th>\n",
       "      <td>December 19, 2022 00:02</td>\n",
       "      <td>Rule #3: Quit Social Media</td>\n",
       "      <td>59.0%</td>\n",
       "      <td>#FFB</td>\n",
       "      <td>This rule attempts to break us out of this rut...</td>\n",
       "    </tr>\n",
       "  </tbody>\n",
       "</table>\n",
       "</div>"
      ],
      "text/plain": [
       "                 timestamp                      chapter percent    color  \\\n",
       "0  December 20, 2022 04:09  Rule #4: Drain the Shallows   71.8%     #FFB   \n",
       "1  December 20, 2022 04:09  Rule #4: Drain the Shallows   71.4%     #FFB   \n",
       "2  December 19, 2022 05:08  Rule #4: Drain the Shallows   71.0%     #FFB   \n",
       "3  December 19, 2022 02:04   Rule #3: Quit Social Media   66.4%  #FFE0EC   \n",
       "4  December 19, 2022 00:02   Rule #3: Quit Social Media   59.0%     #FFB   \n",
       "\n",
       "                                               quote  \n",
       "0  changing your schedule on paper. For example, ...  \n",
       "1  When you’re done scheduling your day, every mi...  \n",
       "2  Here’s my suggestion: At the beginning of each...  \n",
       "3  These services aren’t necessarily, as advertis...  \n",
       "4  This rule attempts to break us out of this rut...  "
      ]
     },
     "execution_count": 5,
     "metadata": {},
     "output_type": "execute_result"
    }
   ],
   "source": [
    "# Load CSV Data\n",
    "csv_file_path = 'deep-work---highlights.csv'  # Path to the CSV file\n",
    "\n",
    "# Load the CSV data into a DataFrame\n",
    "try:\n",
    "    df = pd.read_csv(csv_file_path, encoding='utf-8')\n",
    "except UnicodeDecodeError:\n",
    "    df = pd.read_csv(csv_file_path, encoding='latin1')\n",
    "\n",
    "# Display the first few rows of the DataFrame to verify the data\n",
    "df.head()"
   ]
  },
  {
   "cell_type": "markdown",
   "metadata": {},
   "source": [
    "# Process Quotes\n",
    "Clean and process the quotes data, handling any formatting or special characters that may be present."
   ]
  },
  {
   "cell_type": "code",
   "execution_count": 6,
   "metadata": {},
   "outputs": [
    {
     "data": {
      "application/vnd.microsoft.datawrangler.viewer.v0+json": {
       "columns": [
        {
         "name": "index",
         "rawType": "int64",
         "type": "integer"
        },
        {
         "name": "timestamp",
         "rawType": "object",
         "type": "string"
        },
        {
         "name": "chapter",
         "rawType": "object",
         "type": "string"
        },
        {
         "name": "percent",
         "rawType": "object",
         "type": "string"
        },
        {
         "name": "color",
         "rawType": "object",
         "type": "string"
        },
        {
         "name": "quote",
         "rawType": "object",
         "type": "string"
        }
       ],
       "conversionMethod": "pd.DataFrame",
       "ref": "77f8f7b3-2b7c-4862-afee-7505ce5aecbf",
       "rows": [
        [
         "0",
         "December 20, 2022 04:09",
         "Rule #4: Drain the Shallows",
         "71.8%",
         "#FFB",
         "changing your schedule on paper. For example, returning to our press release example, you might schedule two hours for writing the press release, but then follow it by an additional hour block that you can use to keep writing the release, if needed, but otherwise assign to catching up with e-mail.   The third tactic I suggest is to be liberal with your use of task blocks. Deploy many throughout your day and make them longer than required to handle the tasks you plan in the morning. Lots of things come up during the typical knowledge worker’s day: Having regularly occurring blocks of time to address these surprises keeps things running smoothly"
        ],
        [
         "1",
         "December 20, 2022 04:09",
         "Rule #4: Drain the Shallows",
         "71.4%",
         "#FFB",
         "When you’re done scheduling your day, every minute should be part of a block. You have, in effect, given every minute of your workday a job. Now as you go through your day, use this schedule to guide you.   It’s here, of course, that most people will begin to run into trouble. Two things can (and likely will) go wrong with your schedule once the day progresses. The first is that your estimates will prove wrong. You might put aside two hours for writing a press release, for example, and in reality it takes two and a half hours. The second problem is that you’ll be interrupted and new obligations will unexpectedly appear on your plate. These events will also break your schedule.   This is okay. If your schedule is disrupted, you should, at the next available moment, take a few minutes to create a revised schedule for the time that remains in the day. You can turn to a new page. You can erase and redraw blocks. Or do as I do: Cross out the blocks for the remainder of the day and create new blocks to the right of the old ones on the page (I draw my blocks skinny so I have room for several revisions). On some days, you might rewrite your schedule half a dozen times. Don’t despair if this happens. Your goal is not to stick to a given schedule at all costs; it’s instead to maintain, at all times, a thoughtful say in what you’re doing with your time going forward—even if these decisions are reworked again and again as the day unfolds.   If you find that schedule revisions become overwhelming in their frequency, there are a few tactics that can inject some more stability. First, you should recognize that almost definitely you’re going to underestimate at first how much time you require for most things. When people are new to this habit, they tend to use their schedule as an incarnation of wishful thinking—a best-case scenario for their day. Over time, you should make an effort to accurately (if not somewhat conservatively) predict the time tasks will require.   The second tactic that helps is the use of overflow conditional blocks. If you’re not sure how long a given activity might take, block off the expected time, then follow this with an additional block that has a split purpose. If you need more time for the preceding activity, use this additional block to keep working on it. If you finish the activity on time, however, have an alternate use already assigned for the extra block (for example, some nonurgent tasks). This allows unpredictability in your day without requiring you to keep"
        ],
        [
         "2",
         "December 19, 2022 05:08",
         "Rule #4: Drain the Shallows",
         "71.0%",
         "#FFB",
         "Here’s my suggestion: At the beginning of each workday, turn to a new page of lined paper in a notebook you dedicate to this purpose. Down the left-hand side of the page, mark every other line with an hour of the day, covering the full set of hours you typically work. Now comes the important part: Divide the hours of your workday into blocks and assign activities to the blocks. For example, you might block off nine a.m. to eleven a.m. for writing a client’s press release. To do so, actually draw a box that covers the lines corresponding to these hours, then write “press release” inside the box. Not every block need be dedicated to a work task. There might be time blocks for lunch or relaxation breaks. To keep things reasonably clean, the minimum length of a block should be thirty minutes (i.e., one line on your page). This means, for example, that instead of having a unique small box for each small task on your plate for the day—respond to boss’s e-mail, submit reimbursement form, ask Carl about report—you can batch similar things into more generic task blocks. You might find it useful, in this case, to draw a line from a task block to the open right-hand side of the page where you can list out the full set of small tasks you plan to accomplish in that block."
        ],
        [
         "3",
         "December 19, 2022 02:04",
         "Rule #3: Quit Social Media",
         "66.4%",
         "#FFE0EC",
         "These services aren’t necessarily, as advertised, the lifeblood of our modern connected world. They’re just products, developed by private companies, funded lavishly, marketed carefully, and designed ultimately to capture then sell your personal information and attention to advertisers. They can be fun, but in the scheme of your life and what you want to accomplish, they’re a lightweight whimsy, one unimportant distraction among many threatening to derail you from something deeper. Or maybe social media tools are at the core of your existence. You won’t know either way until you sample life without them."
        ],
        [
         "4",
         "December 19, 2022 00:02",
         "Rule #3: Quit Social Media",
         "59.0%",
         "#FFB",
         "This rule attempts to break us out of this rut by proposing a third option: accepting that these tools are not inherently evil, and that some of them might be quite vital to your success and happiness, but at the same time also accepting that the threshold for allowing a site regular access to your time and attention (not to mention personal data) should be much more stringent, and that most people should therefore be using many fewer such tools. I won’t ask you, in other words, to quit the Internet altogether like Baratunde Thurston did for twenty-five days back in 2013. But I will ask you to reject the state of distracted hyperconnectedness that drove him to that drastic experiment in the first place. There is a middle ground, and if you’re interested in developing a deep work habit, you must fight to get there."
        ]
       ],
       "shape": {
        "columns": 5,
        "rows": 5
       }
      },
      "text/html": [
       "<div>\n",
       "<style scoped>\n",
       "    .dataframe tbody tr th:only-of-type {\n",
       "        vertical-align: middle;\n",
       "    }\n",
       "\n",
       "    .dataframe tbody tr th {\n",
       "        vertical-align: top;\n",
       "    }\n",
       "\n",
       "    .dataframe thead th {\n",
       "        text-align: right;\n",
       "    }\n",
       "</style>\n",
       "<table border=\"1\" class=\"dataframe\">\n",
       "  <thead>\n",
       "    <tr style=\"text-align: right;\">\n",
       "      <th></th>\n",
       "      <th>timestamp</th>\n",
       "      <th>chapter</th>\n",
       "      <th>percent</th>\n",
       "      <th>color</th>\n",
       "      <th>quote</th>\n",
       "    </tr>\n",
       "  </thead>\n",
       "  <tbody>\n",
       "    <tr>\n",
       "      <th>0</th>\n",
       "      <td>December 20, 2022 04:09</td>\n",
       "      <td>Rule #4: Drain the Shallows</td>\n",
       "      <td>71.8%</td>\n",
       "      <td>#FFB</td>\n",
       "      <td>changing your schedule on paper. For example, ...</td>\n",
       "    </tr>\n",
       "    <tr>\n",
       "      <th>1</th>\n",
       "      <td>December 20, 2022 04:09</td>\n",
       "      <td>Rule #4: Drain the Shallows</td>\n",
       "      <td>71.4%</td>\n",
       "      <td>#FFB</td>\n",
       "      <td>When you’re done scheduling your day, every mi...</td>\n",
       "    </tr>\n",
       "    <tr>\n",
       "      <th>2</th>\n",
       "      <td>December 19, 2022 05:08</td>\n",
       "      <td>Rule #4: Drain the Shallows</td>\n",
       "      <td>71.0%</td>\n",
       "      <td>#FFB</td>\n",
       "      <td>Here’s my suggestion: At the beginning of each...</td>\n",
       "    </tr>\n",
       "    <tr>\n",
       "      <th>3</th>\n",
       "      <td>December 19, 2022 02:04</td>\n",
       "      <td>Rule #3: Quit Social Media</td>\n",
       "      <td>66.4%</td>\n",
       "      <td>#FFE0EC</td>\n",
       "      <td>These services aren’t necessarily, as advertis...</td>\n",
       "    </tr>\n",
       "    <tr>\n",
       "      <th>4</th>\n",
       "      <td>December 19, 2022 00:02</td>\n",
       "      <td>Rule #3: Quit Social Media</td>\n",
       "      <td>59.0%</td>\n",
       "      <td>#FFB</td>\n",
       "      <td>This rule attempts to break us out of this rut...</td>\n",
       "    </tr>\n",
       "  </tbody>\n",
       "</table>\n",
       "</div>"
      ],
      "text/plain": [
       "                 timestamp                      chapter percent    color  \\\n",
       "0  December 20, 2022 04:09  Rule #4: Drain the Shallows   71.8%     #FFB   \n",
       "1  December 20, 2022 04:09  Rule #4: Drain the Shallows   71.4%     #FFB   \n",
       "2  December 19, 2022 05:08  Rule #4: Drain the Shallows   71.0%     #FFB   \n",
       "3  December 19, 2022 02:04   Rule #3: Quit Social Media   66.4%  #FFE0EC   \n",
       "4  December 19, 2022 00:02   Rule #3: Quit Social Media   59.0%     #FFB   \n",
       "\n",
       "                                               quote  \n",
       "0  changing your schedule on paper. For example, ...  \n",
       "1  When you’re done scheduling your day, every mi...  \n",
       "2  Here’s my suggestion: At the beginning of each...  \n",
       "3  These services aren’t necessarily, as advertis...  \n",
       "4  This rule attempts to break us out of this rut...  "
      ]
     },
     "execution_count": 6,
     "metadata": {},
     "output_type": "execute_result"
    }
   ],
   "source": [
    "# Process Quotes\n",
    "\n",
    "# Clean and process the quotes data, handling any formatting or special characters that may be present.\n",
    "def clean_quote(quote):\n",
    "    # Remove leading/trailing whitespace and handle special characters\n",
    "    return quote.strip().replace('\\n', ' ').replace('\\r', '')\n",
    "\n",
    "# Apply the cleaning function to the 'quote' column\n",
    "df['quote'] = df['quote'].apply(clean_quote)\n",
    "\n",
    "# Display the cleaned DataFrame to verify the changes\n",
    "df.head()"
   ]
  },
  {
   "cell_type": "markdown",
   "metadata": {},
   "source": [
    "# Create Word Document\n",
    "Create a new Word document and add the quotes from the CSV file, possibly organizing by categories or authors if available."
   ]
  },
  {
   "cell_type": "code",
   "execution_count": 9,
   "metadata": {},
   "outputs": [],
   "source": [
    "# Create Word Document\n",
    "\n",
    "# Create a new Word document\n",
    "doc = Document()\n",
    "\n",
    "# Add a title to the document\n",
    "doc.add_heading('Quotes Collection', level=1)\n",
    "\n",
    "# Iterate through the DataFrame and add quotes to the document\n",
    "for index, row in df.iterrows():\n",
    "    quote = row['quote']\n",
    "    chapter = row.get('chapter', '')  # Use an empty string if chapter is not available\n",
    "    author = row.get('author', 'Unknown')  # Use 'Unknown' if author is not available\n",
    "    category = row.get('category', 'General')  # Use 'General' if category is not available\n",
    "    \n",
    "    # Add the quote to the document\n",
    "    doc.add_paragraph(f'\"{quote}\"')\n",
    "    \n",
    "    # Add the author and category\n",
    "    doc.add_paragraph(f'- {author} ({category})', style='Quote')\n",
    "    \n",
    "    # Add a line break for separation\n",
    "    doc.add_paragraph()\n",
    "\n",
    "# Save the document\n",
    "doc.save('Quotes_Collection.docx')"
   ]
  },
  {
   "cell_type": "markdown",
   "metadata": {},
   "source": [
    "# Style and Format Document\n",
    "Apply formatting to make the document visually appealing, including fonts, spacing, headings, and possibly adding page numbers."
   ]
  },
  {
   "cell_type": "code",
   "execution_count": 15,
   "metadata": {},
   "outputs": [],
   "source": [
    "# Style and Format Document\n",
    "# No additional imports are necessary here since the required libraries are imported immediately below.\n",
    "from docx.shared import Pt\n",
    "from docx.oxml.ns import qn\n",
    "from docx.enum.text import WD_PARAGRAPH_ALIGNMENT\n",
    "\n",
    "# Set the default font for the document\n",
    "style = doc.styles['Normal']\n",
    "font = style.font\n",
    "font.name = 'Times New Roman'\n",
    "font.size = Pt(12)\n",
    "\n",
    "# Apply formatting to the title\n",
    "title = doc.paragraphs[0]\n",
    "title.alignment = WD_PARAGRAPH_ALIGNMENT.CENTER\n",
    "run = title.runs[0]\n",
    "run.font.name = 'Arial'\n",
    "run.font.size = Pt(24)\n",
    "run.bold = True\n",
    "\n",
    "# Apply formatting to the quotes and author/category paragraphs\n",
    "for para in doc.paragraphs[1:]:\n",
    "    if para.style.name == 'Normal':\n",
    "        if para.runs:\n",
    "            run = para.runs[0]\n",
    "        else:\n",
    "            run = para.add_run()\n",
    "        run.font.size = Pt(14)\n",
    "        run.italic = True\n",
    "    elif para.style.name == 'Quote':\n",
    "        para.alignment = WD_PARAGRAPH_ALIGNMENT.RIGHT\n",
    "        for run in para.runs:\n",
    "            run.font.size = Pt(12)\n",
    "            run.font.bold = True\n",
    "\n",
    "# Add page numbers to the footer\n",
    "from docx.oxml import OxmlElement\n",
    "\n",
    "section = doc.sections[0]\n",
    "footer = section.footer\n",
    "if footer.paragraphs:\n",
    "    footer_paragraph = footer.paragraphs[0]\n",
    "else:\n",
    "    footer_paragraph = footer.add_paragraph()\n",
    "footer_paragraph.text = \"Page \"\n",
    "footer_paragraph.alignment = WD_PARAGRAPH_ALIGNMENT.CENTER\n",
    "\n",
    "# Create a run and insert field codes for the page number\n",
    "run = footer_paragraph.add_run()\n",
    "fldChar_begin = OxmlElement('w:fldChar')\n",
    "fldChar_begin.set(qn('w:fldCharType'), 'begin')\n",
    "instrText = OxmlElement('w:instrText')\n",
    "instrText.text = 'PAGE'\n",
    "fldChar_separate = OxmlElement('w:fldChar')\n",
    "fldChar_separate.set(qn('w:fldCharType'), 'separate')\n",
    "fldChar_end = OxmlElement('w:fldChar')\n",
    "fldChar_end.set(qn('w:fldCharType'), 'end')\n",
    "\n",
    "run._r.append(fldChar_begin)\n",
    "run._r.append(instrText)\n",
    "run._r.append(fldChar_separate)\n",
    "run._r.append(fldChar_end)"
   ]
  },
  {
   "cell_type": "markdown",
   "metadata": {},
   "source": [
    "# Save Word Document\n",
    "Save the completed document to a file and provide options for the user to specify the output location."
   ]
  }
 ],
 "metadata": {
  "kernelspec": {
   "display_name": "Python 3",
   "language": "python",
   "name": "python3"
  },
  "language_info": {
   "codemirror_mode": {
    "name": "ipython",
    "version": 3
   },
   "file_extension": ".py",
   "mimetype": "text/x-python",
   "name": "python",
   "nbconvert_exporter": "python",
   "pygments_lexer": "ipython3",
   "version": "3.12.1"
  }
 },
 "nbformat": 4,
 "nbformat_minor": 2
}
