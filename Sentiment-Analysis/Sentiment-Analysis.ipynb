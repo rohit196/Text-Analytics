{
 "cells": [
  {
   "cell_type": "code",
   "execution_count": 2,
   "metadata": {},
   "outputs": [],
   "source": [
    "import pandas as pd\n",
    "from nltk.sentiment.vader import SentimentIntensityAnalyzer\n",
    "from textblob import TextBlob\n",
    "import matplotlib.pyplot as plt\n",
    "import nltk"
   ]
  },
  {
   "cell_type": "code",
   "execution_count": 3,
   "metadata": {},
   "outputs": [
    {
     "name": "stderr",
     "output_type": "stream",
     "text": [
      "[nltk_data] Downloading package vader_lexicon to\n",
      "[nltk_data]     /home/codespace/nltk_data...\n",
      "[nltk_data]   Package vader_lexicon is already up-to-date!\n"
     ]
    },
    {
     "data": {
      "text/plain": [
       "True"
      ]
     },
     "execution_count": 3,
     "metadata": {},
     "output_type": "execute_result"
    }
   ],
   "source": [
    "# Ensure you have the necessary NLTK data\n",
    "nltk.download('vader_lexicon')"
   ]
  },
  {
   "cell_type": "code",
   "execution_count": 4,
   "metadata": {},
   "outputs": [
    {
     "data": {
      "application/vnd.microsoft.datawrangler.viewer.v0+json": {
       "columns": [
        {
         "name": "index",
         "rawType": "int64",
         "type": "integer"
        },
        {
         "name": "__typename",
         "rawType": "object",
         "type": "string"
        },
        {
         "name": "brandType",
         "rawType": "object",
         "type": "string"
        },
        {
         "name": "contentDirectFeedbackPromptId",
         "rawType": "float64",
         "type": "float"
        },
        {
         "name": "customData/doWeEndorseIt",
         "rawType": "object",
         "type": "string"
        },
        {
         "name": "customData/hotel",
         "rawType": "object",
         "type": "string"
        },
        {
         "name": "hotelId",
         "rawType": "int64",
         "type": "integer"
        },
        {
         "name": "id",
         "rawType": "object",
         "type": "string"
        },
        {
         "name": "impressionAnalytics",
         "rawType": "float64",
         "type": "float"
        },
        {
         "name": "impressionAnalytics/__typename",
         "rawType": "object",
         "type": "unknown"
        },
        {
         "name": "impressionAnalytics/event",
         "rawType": "object",
         "type": "unknown"
        },
        {
         "name": "impressionAnalytics/referrerId",
         "rawType": "object",
         "type": "unknown"
        },
        {
         "name": "locale",
         "rawType": "object",
         "type": "string"
        },
        {
         "name": "managementResponses/0/__typename",
         "rawType": "object",
         "type": "string"
        },
        {
         "name": "managementResponses/0/header/__typename",
         "rawType": "object",
         "type": "string"
        },
        {
         "name": "managementResponses/0/header/text",
         "rawType": "object",
         "type": "string"
        },
        {
         "name": "managementResponses/0/id",
         "rawType": "object",
         "type": "string"
        },
        {
         "name": "managementResponses/0/response",
         "rawType": "object",
         "type": "string"
        },
        {
         "name": "photoSection",
         "rawType": "float64",
         "type": "float"
        },
        {
         "name": "photoSection/__typename",
         "rawType": "object",
         "type": "unknown"
        },
        {
         "name": "photoSection/exitAnalytics/__typename",
         "rawType": "object",
         "type": "unknown"
        },
        {
         "name": "photoSection/exitAnalytics/linkName",
         "rawType": "object",
         "type": "unknown"
        },
        {
         "name": "photoSection/exitAnalytics/referrerId",
         "rawType": "object",
         "type": "unknown"
        },
        {
         "name": "photoSection/imageClickAnalytics/__typename",
         "rawType": "object",
         "type": "unknown"
        },
        {
         "name": "photoSection/imageClickAnalytics/linkName",
         "rawType": "object",
         "type": "unknown"
        },
        {
         "name": "photoSection/imageClickAnalytics/referrerId",
         "rawType": "object",
         "type": "unknown"
        },
        {
         "name": "photoSection/navClickAnalytics/__typename",
         "rawType": "object",
         "type": "unknown"
        },
        {
         "name": "photoSection/navClickAnalytics/linkName",
         "rawType": "object",
         "type": "unknown"
        },
        {
         "name": "photoSection/navClickAnalytics/referrerId",
         "rawType": "object",
         "type": "unknown"
        },
        {
         "name": "photos/0/__typename",
         "rawType": "object",
         "type": "unknown"
        },
        {
         "name": "photos/0/description",
         "rawType": "float64",
         "type": "float"
        },
        {
         "name": "photos/0/url",
         "rawType": "object",
         "type": "unknown"
        },
        {
         "name": "photos/1/__typename",
         "rawType": "object",
         "type": "unknown"
        },
        {
         "name": "photos/1/description",
         "rawType": "float64",
         "type": "float"
        },
        {
         "name": "photos/1/url",
         "rawType": "object",
         "type": "unknown"
        },
        {
         "name": "photos/2/__typename",
         "rawType": "object",
         "type": "unknown"
        },
        {
         "name": "photos/2/description",
         "rawType": "float64",
         "type": "float"
        },
        {
         "name": "photos/2/url",
         "rawType": "object",
         "type": "unknown"
        },
        {
         "name": "photos/3/__typename",
         "rawType": "object",
         "type": "unknown"
        },
        {
         "name": "photos/3/description",
         "rawType": "float64",
         "type": "float"
        },
        {
         "name": "photos/3/url",
         "rawType": "object",
         "type": "unknown"
        },
        {
         "name": "photos/4/__typename",
         "rawType": "object",
         "type": "unknown"
        },
        {
         "name": "photos/4/description",
         "rawType": "float64",
         "type": "float"
        },
        {
         "name": "photos/4/url",
         "rawType": "object",
         "type": "unknown"
        },
        {
         "name": "photos/5/__typename",
         "rawType": "object",
         "type": "unknown"
        },
        {
         "name": "photos/5/description",
         "rawType": "float64",
         "type": "float"
        },
        {
         "name": "photos/5/url",
         "rawType": "object",
         "type": "unknown"
        },
        {
         "name": "photos/6/__typename",
         "rawType": "object",
         "type": "unknown"
        },
        {
         "name": "photos/6/description",
         "rawType": "float64",
         "type": "float"
        },
        {
         "name": "photos/6/url",
         "rawType": "object",
         "type": "unknown"
        },
        {
         "name": "photos/7/__typename",
         "rawType": "object",
         "type": "unknown"
        },
        {
         "name": "photos/7/description",
         "rawType": "float64",
         "type": "float"
        },
        {
         "name": "photos/7/url",
         "rawType": "object",
         "type": "unknown"
        },
        {
         "name": "propertyReviewSource",
         "rawType": "float64",
         "type": "float"
        },
        {
         "name": "reviewAuthorAttribution/__typename",
         "rawType": "object",
         "type": "string"
        },
        {
         "name": "reviewAuthorAttribution/text",
         "rawType": "object",
         "type": "string"
        },
        {
         "name": "reviewFooter/__typename",
         "rawType": "object",
         "type": "string"
        },
        {
         "name": "reviewFooter/messages/0/__typename",
         "rawType": "object",
         "type": "string"
        },
        {
         "name": "reviewFooter/messages/0/seoStructuredData/__typename",
         "rawType": "object",
         "type": "string"
        },
        {
         "name": "reviewFooter/messages/0/seoStructuredData/content",
         "rawType": "object",
         "type": "string"
        },
        {
         "name": "reviewFooter/messages/0/seoStructuredData/itemprop",
         "rawType": "object",
         "type": "string"
        },
        {
         "name": "reviewFooter/messages/0/seoStructuredData/itemscope",
         "rawType": "bool",
         "type": "boolean"
        },
        {
         "name": "reviewFooter/messages/0/seoStructuredData/itemtype",
         "rawType": "object",
         "type": "string"
        },
        {
         "name": "reviewFooter/messages/0/text/__typename",
         "rawType": "object",
         "type": "string"
        },
        {
         "name": "reviewFooter/messages/0/text/text",
         "rawType": "object",
         "type": "string"
        },
        {
         "name": "reviewInteractionSections/0/__typename",
         "rawType": "object",
         "type": "string"
        },
        {
         "name": "reviewInteractionSections/0/accessibilityLabel",
         "rawType": "object",
         "type": "string"
        },
        {
         "name": "reviewInteractionSections/0/feedbackAnalytics/__typename",
         "rawType": "object",
         "type": "string"
        },
        {
         "name": "reviewInteractionSections/0/feedbackAnalytics/linkName",
         "rawType": "object",
         "type": "string"
        },
        {
         "name": "reviewInteractionSections/0/feedbackAnalytics/referrerId",
         "rawType": "object",
         "type": "string"
        },
        {
         "name": "reviewInteractionSections/0/primaryDisplayString",
         "rawType": "int64",
         "type": "integer"
        },
        {
         "name": "reviewInteractionSections/0/reviewInteractionType",
         "rawType": "object",
         "type": "string"
        },
        {
         "name": "reviewInteractionSections/1/__typename",
         "rawType": "object",
         "type": "string"
        },
        {
         "name": "reviewInteractionSections/1/accessibilityLabel",
         "rawType": "object",
         "type": "unknown"
        },
        {
         "name": "reviewInteractionSections/1/feedbackAnalytics",
         "rawType": "float64",
         "type": "float"
        },
        {
         "name": "reviewInteractionSections/1/primaryDisplayString",
         "rawType": "object",
         "type": "unknown"
        },
        {
         "name": "reviewInteractionSections/1/reviewInteractionType",
         "rawType": "object",
         "type": "string"
        },
        {
         "name": "reviewInteractionSections/2/__typename",
         "rawType": "object",
         "type": "string"
        },
        {
         "name": "reviewInteractionSections/2/accessibilityLabel",
         "rawType": "object",
         "type": "string"
        },
        {
         "name": "reviewInteractionSections/2/feedbackAnalytics",
         "rawType": "float64",
         "type": "float"
        },
        {
         "name": "reviewInteractionSections/2/primaryDisplayString",
         "rawType": "object",
         "type": "string"
        },
        {
         "name": "reviewInteractionSections/2/reviewInteractionType",
         "rawType": "object",
         "type": "string"
        },
        {
         "name": "reviewInteractionSections/3/__typename",
         "rawType": "object",
         "type": "string"
        },
        {
         "name": "reviewInteractionSections/3/accessibilityLabel",
         "rawType": "object",
         "type": "string"
        },
        {
         "name": "reviewInteractionSections/3/feedbackAnalytics",
         "rawType": "float64",
         "type": "float"
        },
        {
         "name": "reviewInteractionSections/3/primaryDisplayString",
         "rawType": "object",
         "type": "string"
        },
        {
         "name": "reviewInteractionSections/3/reviewInteractionType",
         "rawType": "object",
         "type": "string"
        },
        {
         "name": "reviewPosition",
         "rawType": "int64",
         "type": "integer"
        },
        {
         "name": "reviewRegion",
         "rawType": "float64",
         "type": "float"
        },
        {
         "name": "reviewScoreWithDescription/__typename",
         "rawType": "object",
         "type": "string"
        },
        {
         "name": "reviewScoreWithDescription/label",
         "rawType": "object",
         "type": "string"
        },
        {
         "name": "reviewScoreWithDescription/value",
         "rawType": "object",
         "type": "string"
        },
        {
         "name": "seeMoreAnalytics/__typename",
         "rawType": "object",
         "type": "string"
        },
        {
         "name": "seeMoreAnalytics/linkName",
         "rawType": "object",
         "type": "string"
        },
        {
         "name": "seeMoreAnalytics/referrerId",
         "rawType": "object",
         "type": "string"
        },
        {
         "name": "submissionTime/__typename",
         "rawType": "object",
         "type": "string"
        },
        {
         "name": "submissionTime/longDateFormat",
         "rawType": "object",
         "type": "string"
        },
        {
         "name": "superlative",
         "rawType": "object",
         "type": "string"
        },
        {
         "name": "text",
         "rawType": "object",
         "type": "string"
        },
        {
         "name": "themes",
         "rawType": "float64",
         "type": "float"
        },
        {
         "name": "themes/0/__typename",
         "rawType": "object",
         "type": "unknown"
        },
        {
         "name": "themes/0/icon/__typename",
         "rawType": "object",
         "type": "unknown"
        },
        {
         "name": "themes/0/icon/id",
         "rawType": "object",
         "type": "unknown"
        },
        {
         "name": "themes/0/label",
         "rawType": "object",
         "type": "unknown"
        },
        {
         "name": "themes/1/__typename",
         "rawType": "object",
         "type": "unknown"
        },
        {
         "name": "themes/1/icon/__typename",
         "rawType": "object",
         "type": "unknown"
        },
        {
         "name": "themes/1/icon/id",
         "rawType": "object",
         "type": "unknown"
        },
        {
         "name": "themes/1/label",
         "rawType": "object",
         "type": "unknown"
        },
        {
         "name": "title",
         "rawType": "object",
         "type": "unknown"
        },
        {
         "name": "translationInfo",
         "rawType": "float64",
         "type": "float"
        },
        {
         "name": "translationInfo/__typename",
         "rawType": "object",
         "type": "unknown"
        },
        {
         "name": "translationInfo/loadingTranslationText",
         "rawType": "object",
         "type": "unknown"
        },
        {
         "name": "translationInfo/seeOriginalText",
         "rawType": "object",
         "type": "unknown"
        },
        {
         "name": "translationInfo/targetLocale",
         "rawType": "float64",
         "type": "float"
        },
        {
         "name": "translationInfo/translatedBy/__typename",
         "rawType": "object",
         "type": "unknown"
        },
        {
         "name": "translationInfo/translatedBy/description",
         "rawType": "object",
         "type": "unknown"
        },
        {
         "name": "translationInfo/translationCallToActionLabel",
         "rawType": "object",
         "type": "unknown"
        },
        {
         "name": "travelers/0",
         "rawType": "object",
         "type": "unknown"
        },
        {
         "name": "travelers/1",
         "rawType": "object",
         "type": "unknown"
        },
        {
         "name": "travelers/2",
         "rawType": "object",
         "type": "unknown"
        },
        {
         "name": "travelers/3",
         "rawType": "object",
         "type": "unknown"
        }
       ],
       "conversionMethod": "pd.DataFrame",
       "ref": "ddbc5d8e-cf94-43ea-be2d-047b6f003213",
       "rows": [
        [
         "0",
         "PropertyReview",
         "Expedia",
         null,
         "no opinion",
         "Prague Hotel Krystal",
         "428588",
         "66b63b958397934320ad7f75",
         null,
         null,
         null,
         null,
         "en_US",
         "ManagementResponse",
         "LodgingHeader",
         "Response from Moon Palace Cancun on Aug 10, 2024",
         "0993e14c-c6f6-4d8a-b7a2-b246b8c0e695",
         "Dear Montserrat,Thank you for sharing your feedback. We’re glad to hear that you enjoyed the pool area but are concerned about the issues you mentioned. Cleanliness is a top priority for us, and we will address the concerns regarding the pools and ensure that our cleaning protocols are followed rigorously. We're also continuously working to improve our dining options, including our Italian offerings, and appreciate your input.Regarding the beach, we understand the frustration with the seaweed and are actively working on maintaining the beach to provide a better experience for our guests.Your comments help us improve, and we hope to have the opportunity to welcome you back in the future for a better experience.Best regards,",
         null,
         null,
         null,
         null,
         null,
         null,
         null,
         null,
         null,
         null,
         null,
         null,
         null,
         null,
         null,
         null,
         null,
         null,
         null,
         null,
         null,
         null,
         null,
         null,
         null,
         null,
         null,
         null,
         null,
         null,
         null,
         null,
         null,
         null,
         null,
         null,
         "LodgingHeader",
         "Montserrat, Conroe",
         "PropertyReviewFooterSection",
         "PropertyReviewFooterMessage",
         "SEOStructuredData",
         "Montserrat",
         "author",
         "True",
         "https://schema.org/Person",
         "EGDSPlainText",
         "Stayed 5 nights in Jul 2024",
         "PropertyReviewInteraction",
         "Mark review 1 as helpful. 0 other users found review 1 helpful.",
         "ClientSideAnalytics",
         "Helpful review",
         "HOT.HIS.ReviewsOverlay.THUMB_UP.UPVOTE",
         "0",
         "HELPFUL_REVIEW",
         "PropertyReviewInteraction",
         null,
         null,
         null,
         "REVIEW_REPORT_FLAG",
         "PropertyReviewInteraction",
         "See more from Montserrat's review",
         null,
         "See more",
         "REVIEW_EXPAND_LABEL",
         "PropertyReviewInteraction",
         "See less from Montserrat's review",
         null,
         "See less",
         "REVIEW_COLLAPSE_LABEL",
         "21",
         null,
         "LodgingEnrichedMessage",
         "6 out of 10 Okay",
         "6/10 Okay",
         "ClientSideAnalytics",
         "See more reviews",
         "HOT.HIS.See_more.",
         "DateTime",
         "Aug 9, 2024",
         "Okay",
         "The property was too large for my liking. The food was okay some days and not great at all some days. Definitely the food needs a upgrade especially the Italian food. The pool area was beautiful, but the pools had mold. Pools need to be cleaned better. and the Beach lets talk about the beach. Its horrible it has tons of sea weed. If you are going to this hotel for the beach forget it. reroute yourself else were. I would give this hotel a 3 out of 5. Maybe next time I would prefer the Grand. Its newer.",
         null,
         null,
         null,
         null,
         null,
         null,
         null,
         null,
         null,
         null,
         null,
         null,
         null,
         null,
         null,
         null,
         null,
         null,
         "Traveled with family and small children",
         "Traveled with family",
         null,
         null
        ],
        [
         "1",
         "PropertyReview",
         "Expedia",
         null,
         "no opinion",
         "Prague Hotel Krystal",
         "428588",
         "66b503566a7cfe1353bdb91e",
         null,
         null,
         null,
         null,
         "en_US",
         "ManagementResponse",
         "LodgingHeader",
         "Response from Moon Palace Cancun on Aug 10, 2024",
         "8adcb65f-77dd-42fe-8bd2-a8aa48634b6a",
         "Dear Sadegh,Thank you for your 5-star review! We’re thrilled to hear that you enjoyed the variety of food, our friendly staff, and the swimming pool. However, we regret that the beach was not up to your expectations. We're continuously working to improve the beach area and hope that you’ll give it another try on your next visit.We look forward to welcoming you back for another great stay!Best regards,",
         null,
         null,
         null,
         null,
         null,
         null,
         null,
         null,
         null,
         null,
         null,
         null,
         null,
         null,
         null,
         null,
         null,
         null,
         null,
         null,
         null,
         null,
         null,
         null,
         null,
         null,
         null,
         null,
         null,
         null,
         null,
         null,
         null,
         null,
         null,
         null,
         "LodgingHeader",
         "Sadegh",
         "PropertyReviewFooterSection",
         "PropertyReviewFooterMessage",
         "SEOStructuredData",
         "Sadegh",
         "author",
         "True",
         "https://schema.org/Person",
         "EGDSPlainText",
         "Stayed 5 nights in Aug 2024",
         "PropertyReviewInteraction",
         "Mark review 2 as helpful. 0 other users found review 2 helpful.",
         "ClientSideAnalytics",
         "Helpful review",
         "HOT.HIS.ReviewsOverlay.THUMB_UP.UPVOTE",
         "0",
         "HELPFUL_REVIEW",
         "PropertyReviewInteraction",
         null,
         null,
         null,
         "REVIEW_REPORT_FLAG",
         "PropertyReviewInteraction",
         "See more from Sadegh's review",
         null,
         "See more",
         "REVIEW_EXPAND_LABEL",
         "PropertyReviewInteraction",
         "See less from Sadegh's review",
         null,
         "See less",
         "REVIEW_COLLAPSE_LABEL",
         "22",
         null,
         "LodgingEnrichedMessage",
         "10 out of 10 Excellent",
         "10/10 Excellent",
         "ClientSideAnalytics",
         "See more reviews",
         "HOT.HIS.See_more.",
         "DateTime",
         "Aug 8, 2024",
         "Excellent",
         "The stuff are very friendly,Food is excellent it has variety of food and restaurants.swimming pool is good it doesn’t have a good beach in fact we couldn’t use beach due to dirty so we spent more time on swim pool ",
         null,
         "ReviewThemes",
         "Icon",
         "sentiment_4",
         "Liked: Cleanliness, staff & service, amenities, property conditions & facilities",
         null,
         null,
         null,
         null,
         null,
         null,
         null,
         null,
         null,
         null,
         null,
         null,
         null,
         "Traveled with family",
         null,
         null,
         null
        ],
        [
         "2",
         "PropertyReview",
         "Expedia",
         null,
         "no opinion",
         "Prague Hotel Krystal",
         "428588",
         "66b4d8d6e6073643fd1b9cdc",
         null,
         null,
         null,
         null,
         "en_US",
         "ManagementResponse",
         "LodgingHeader",
         "Response from Moon Palace Cancun on Aug 8, 2024",
         "f23c6f51-9860-4590-84ff-61eaf24ef183",
         "Dear Kartik Patel Snehal,Thank you for taking the time to share your feedback. We appreciate your comments and are sorry to hear that our size and service did not meet your expectations.We are continuously working to improve our guest experience, including our transportation services and staffing . Your insights are invaluable as we strive to enhance our operations.If you have any specific suggestions or additional concerns, please feel free to reach out to us directly. We hope to have the opportunity to provide you with a more seamless experience in the future.Best regards,",
         null,
         null,
         null,
         null,
         null,
         null,
         null,
         null,
         null,
         null,
         null,
         null,
         null,
         null,
         null,
         null,
         null,
         null,
         null,
         null,
         null,
         null,
         null,
         null,
         null,
         null,
         null,
         null,
         null,
         null,
         null,
         null,
         null,
         null,
         null,
         null,
         "LodgingHeader",
         "Kartik Patel Snehal, DES PLAINES",
         "PropertyReviewFooterSection",
         "PropertyReviewFooterMessage",
         "SEOStructuredData",
         "Kartik Patel Snehal",
         "author",
         "True",
         "https://schema.org/Person",
         "EGDSPlainText",
         "Stayed 7 nights in Jul 2024",
         "PropertyReviewInteraction",
         "Mark review 3 as helpful. 0 other users found review 3 helpful.",
         "ClientSideAnalytics",
         "Helpful review",
         "HOT.HIS.ReviewsOverlay.THUMB_UP.UPVOTE",
         "0",
         "HELPFUL_REVIEW",
         "PropertyReviewInteraction",
         null,
         null,
         null,
         "REVIEW_REPORT_FLAG",
         "PropertyReviewInteraction",
         "See more from Kartik Patel Snehal's review",
         null,
         "See more",
         "REVIEW_EXPAND_LABEL",
         "PropertyReviewInteraction",
         "See less from Kartik Patel Snehal's review",
         null,
         "See less",
         "REVIEW_COLLAPSE_LABEL",
         "23",
         null,
         "LodgingEnrichedMessage",
         "6 out of 10 Okay",
         "6/10 Okay",
         "ClientSideAnalytics",
         "See more reviews",
         "HOT.HIS.See_more.",
         "DateTime",
         "Aug 8, 2024",
         "Okay",
         "Too big, no organized transportation and short staffed (get ready to wait for everything you do) ",
         null,
         "ReviewThemes",
         "Icon",
         "sentiment_4",
         "Liked: Cleanliness, staff & service, amenities",
         null,
         null,
         null,
         null,
         null,
         null,
         null,
         null,
         null,
         null,
         null,
         null,
         null,
         "Traveled with family and small children",
         null,
         null,
         null
        ],
        [
         "3",
         "PropertyReview",
         "Expedia",
         null,
         "no opinion",
         "Prague Hotel Krystal",
         "428588",
         "66b3c0f33677b72a4489b05f",
         null,
         null,
         null,
         null,
         "en_US",
         "ManagementResponse",
         "LodgingHeader",
         "Response from Moon Palace Cancun on Aug 8, 2024",
         "99e20779-1102-4dac-a8ba-4ba777bdf0c5",
         "Dear Trung,Thank you for your positive feedback! We're thrilled to hear you had a great experience with us. If there’s anything specific you enjoyed or any suggestions for improvement, please let us know. We look forward to welcoming you back!Best regards,",
         null,
         null,
         null,
         null,
         null,
         null,
         null,
         null,
         null,
         null,
         null,
         null,
         null,
         null,
         null,
         null,
         null,
         null,
         null,
         null,
         null,
         null,
         null,
         null,
         null,
         null,
         null,
         null,
         null,
         null,
         null,
         null,
         null,
         null,
         null,
         null,
         "LodgingHeader",
         "Trung",
         "PropertyReviewFooterSection",
         "PropertyReviewFooterMessage",
         "SEOStructuredData",
         "Trung",
         "author",
         "True",
         "https://schema.org/Person",
         "EGDSPlainText",
         "Stayed 5 nights in Aug 2024",
         "PropertyReviewInteraction",
         "Mark review 4 as helpful. 0 other users found review 4 helpful.",
         "ClientSideAnalytics",
         "Helpful review",
         "HOT.HIS.ReviewsOverlay.THUMB_UP.UPVOTE",
         "0",
         "HELPFUL_REVIEW",
         "PropertyReviewInteraction",
         null,
         null,
         null,
         "REVIEW_REPORT_FLAG",
         "PropertyReviewInteraction",
         "See more from Trung's review",
         null,
         "See more",
         "REVIEW_EXPAND_LABEL",
         "PropertyReviewInteraction",
         "See less from Trung's review",
         null,
         "See less",
         "REVIEW_COLLAPSE_LABEL",
         "24",
         null,
         "LodgingEnrichedMessage",
         "10 out of 10 Excellent",
         "10/10 Excellent",
         "ClientSideAnalytics",
         "See more reviews",
         "HOT.HIS.See_more.",
         "DateTime",
         "Aug 7, 2024",
         "Excellent",
         "Good",
         null,
         "ReviewThemes",
         "Icon",
         "sentiment_4",
         "Liked: Cleanliness, staff & service, amenities, property conditions & facilities",
         null,
         null,
         null,
         null,
         null,
         null,
         null,
         null,
         null,
         null,
         null,
         null,
         null,
         "Traveled with family and small children",
         null,
         null,
         null
        ],
        [
         "4",
         "PropertyReview",
         "Expedia",
         null,
         "no opinion",
         "Prague Hotel Krystal",
         "428588",
         "66b36f292fa7b179c05b6637",
         null,
         "ClientSideImpressionEventAnalytics",
         "Scroll reviews",
         "HOT.HIS.ReviewsOverlay.Scroll",
         "en_US",
         "ManagementResponse",
         "LodgingHeader",
         "Response from Moon Palace Cancun on Aug 8, 2024",
         "0f2689ad-935f-46cf-bd48-2cc02d26fe69",
         "Dear Katherine,Thank you for your review. We’re glad to hear that you enjoyed your stay overall. We apologize for any inconvenience caused by our team’s attempts to promote our other resorts and day passes.We understand that this can be intrusive and are working to ensure that our promotional efforts are handled more discreetly in the future. Your feedback helps us improve our service, and we appreciate you bringing this to our attention.If you have any further suggestions or concerns, please feel free to let us know. We hope to welcome you back and provide a more enjoyable experience.Best regards,",
         null,
         null,
         null,
         null,
         null,
         null,
         null,
         null,
         null,
         null,
         null,
         null,
         null,
         null,
         null,
         null,
         null,
         null,
         null,
         null,
         null,
         null,
         null,
         null,
         null,
         null,
         null,
         null,
         null,
         null,
         null,
         null,
         null,
         null,
         null,
         null,
         "LodgingHeader",
         "Katherine, Fort Worth",
         "PropertyReviewFooterSection",
         "PropertyReviewFooterMessage",
         "SEOStructuredData",
         "Katherine",
         "author",
         "True",
         "https://schema.org/Person",
         "EGDSPlainText",
         "Stayed 4 nights in Jul 2024",
         "PropertyReviewInteraction",
         "Mark review 5 as helpful. 0 other users found review 5 helpful.",
         "ClientSideAnalytics",
         "Helpful review",
         "HOT.HIS.ReviewsOverlay.THUMB_UP.UPVOTE",
         "0",
         "HELPFUL_REVIEW",
         "PropertyReviewInteraction",
         null,
         null,
         null,
         "REVIEW_REPORT_FLAG",
         "PropertyReviewInteraction",
         "See more from Katherine's review",
         null,
         "See more",
         "REVIEW_EXPAND_LABEL",
         "PropertyReviewInteraction",
         "See less from Katherine's review",
         null,
         "See less",
         "REVIEW_COLLAPSE_LABEL",
         "25",
         null,
         "LodgingEnrichedMessage",
         "8 out of 10 Good",
         "8/10 Good",
         "ClientSideAnalytics",
         "See more reviews",
         "HOT.HIS.See_more.",
         "DateTime",
         "Aug 7, 2024",
         "Good",
         "That they were really pushy when it comes to selling their other resorts. For example their day pass. They kept calling the room to see why we didn’t want to go ",
         null,
         "ReviewThemes",
         "Icon",
         "sentiment_4",
         "Liked: Cleanliness, staff & service, property conditions & facilities",
         null,
         null,
         null,
         null,
         null,
         null,
         null,
         null,
         null,
         null,
         null,
         null,
         null,
         null,
         null,
         null,
         null
        ]
       ],
       "shape": {
        "columns": 120,
        "rows": 5
       }
      },
      "text/html": [
       "<div>\n",
       "<style scoped>\n",
       "    .dataframe tbody tr th:only-of-type {\n",
       "        vertical-align: middle;\n",
       "    }\n",
       "\n",
       "    .dataframe tbody tr th {\n",
       "        vertical-align: top;\n",
       "    }\n",
       "\n",
       "    .dataframe thead th {\n",
       "        text-align: right;\n",
       "    }\n",
       "</style>\n",
       "<table border=\"1\" class=\"dataframe\">\n",
       "  <thead>\n",
       "    <tr style=\"text-align: right;\">\n",
       "      <th></th>\n",
       "      <th>__typename</th>\n",
       "      <th>brandType</th>\n",
       "      <th>contentDirectFeedbackPromptId</th>\n",
       "      <th>customData/doWeEndorseIt</th>\n",
       "      <th>customData/hotel</th>\n",
       "      <th>hotelId</th>\n",
       "      <th>id</th>\n",
       "      <th>impressionAnalytics</th>\n",
       "      <th>impressionAnalytics/__typename</th>\n",
       "      <th>impressionAnalytics/event</th>\n",
       "      <th>...</th>\n",
       "      <th>translationInfo/loadingTranslationText</th>\n",
       "      <th>translationInfo/seeOriginalText</th>\n",
       "      <th>translationInfo/targetLocale</th>\n",
       "      <th>translationInfo/translatedBy/__typename</th>\n",
       "      <th>translationInfo/translatedBy/description</th>\n",
       "      <th>translationInfo/translationCallToActionLabel</th>\n",
       "      <th>travelers/0</th>\n",
       "      <th>travelers/1</th>\n",
       "      <th>travelers/2</th>\n",
       "      <th>travelers/3</th>\n",
       "    </tr>\n",
       "  </thead>\n",
       "  <tbody>\n",
       "    <tr>\n",
       "      <th>0</th>\n",
       "      <td>PropertyReview</td>\n",
       "      <td>Expedia</td>\n",
       "      <td>NaN</td>\n",
       "      <td>no opinion</td>\n",
       "      <td>Prague Hotel Krystal</td>\n",
       "      <td>428588</td>\n",
       "      <td>66b63b958397934320ad7f75</td>\n",
       "      <td>NaN</td>\n",
       "      <td>NaN</td>\n",
       "      <td>NaN</td>\n",
       "      <td>...</td>\n",
       "      <td>NaN</td>\n",
       "      <td>NaN</td>\n",
       "      <td>NaN</td>\n",
       "      <td>NaN</td>\n",
       "      <td>NaN</td>\n",
       "      <td>NaN</td>\n",
       "      <td>Traveled with family and small children</td>\n",
       "      <td>Traveled with family</td>\n",
       "      <td>NaN</td>\n",
       "      <td>NaN</td>\n",
       "    </tr>\n",
       "    <tr>\n",
       "      <th>1</th>\n",
       "      <td>PropertyReview</td>\n",
       "      <td>Expedia</td>\n",
       "      <td>NaN</td>\n",
       "      <td>no opinion</td>\n",
       "      <td>Prague Hotel Krystal</td>\n",
       "      <td>428588</td>\n",
       "      <td>66b503566a7cfe1353bdb91e</td>\n",
       "      <td>NaN</td>\n",
       "      <td>NaN</td>\n",
       "      <td>NaN</td>\n",
       "      <td>...</td>\n",
       "      <td>NaN</td>\n",
       "      <td>NaN</td>\n",
       "      <td>NaN</td>\n",
       "      <td>NaN</td>\n",
       "      <td>NaN</td>\n",
       "      <td>NaN</td>\n",
       "      <td>Traveled with family</td>\n",
       "      <td>NaN</td>\n",
       "      <td>NaN</td>\n",
       "      <td>NaN</td>\n",
       "    </tr>\n",
       "    <tr>\n",
       "      <th>2</th>\n",
       "      <td>PropertyReview</td>\n",
       "      <td>Expedia</td>\n",
       "      <td>NaN</td>\n",
       "      <td>no opinion</td>\n",
       "      <td>Prague Hotel Krystal</td>\n",
       "      <td>428588</td>\n",
       "      <td>66b4d8d6e6073643fd1b9cdc</td>\n",
       "      <td>NaN</td>\n",
       "      <td>NaN</td>\n",
       "      <td>NaN</td>\n",
       "      <td>...</td>\n",
       "      <td>NaN</td>\n",
       "      <td>NaN</td>\n",
       "      <td>NaN</td>\n",
       "      <td>NaN</td>\n",
       "      <td>NaN</td>\n",
       "      <td>NaN</td>\n",
       "      <td>Traveled with family and small children</td>\n",
       "      <td>NaN</td>\n",
       "      <td>NaN</td>\n",
       "      <td>NaN</td>\n",
       "    </tr>\n",
       "    <tr>\n",
       "      <th>3</th>\n",
       "      <td>PropertyReview</td>\n",
       "      <td>Expedia</td>\n",
       "      <td>NaN</td>\n",
       "      <td>no opinion</td>\n",
       "      <td>Prague Hotel Krystal</td>\n",
       "      <td>428588</td>\n",
       "      <td>66b3c0f33677b72a4489b05f</td>\n",
       "      <td>NaN</td>\n",
       "      <td>NaN</td>\n",
       "      <td>NaN</td>\n",
       "      <td>...</td>\n",
       "      <td>NaN</td>\n",
       "      <td>NaN</td>\n",
       "      <td>NaN</td>\n",
       "      <td>NaN</td>\n",
       "      <td>NaN</td>\n",
       "      <td>NaN</td>\n",
       "      <td>Traveled with family and small children</td>\n",
       "      <td>NaN</td>\n",
       "      <td>NaN</td>\n",
       "      <td>NaN</td>\n",
       "    </tr>\n",
       "    <tr>\n",
       "      <th>4</th>\n",
       "      <td>PropertyReview</td>\n",
       "      <td>Expedia</td>\n",
       "      <td>NaN</td>\n",
       "      <td>no opinion</td>\n",
       "      <td>Prague Hotel Krystal</td>\n",
       "      <td>428588</td>\n",
       "      <td>66b36f292fa7b179c05b6637</td>\n",
       "      <td>NaN</td>\n",
       "      <td>ClientSideImpressionEventAnalytics</td>\n",
       "      <td>Scroll reviews</td>\n",
       "      <td>...</td>\n",
       "      <td>NaN</td>\n",
       "      <td>NaN</td>\n",
       "      <td>NaN</td>\n",
       "      <td>NaN</td>\n",
       "      <td>NaN</td>\n",
       "      <td>NaN</td>\n",
       "      <td>NaN</td>\n",
       "      <td>NaN</td>\n",
       "      <td>NaN</td>\n",
       "      <td>NaN</td>\n",
       "    </tr>\n",
       "  </tbody>\n",
       "</table>\n",
       "<p>5 rows × 120 columns</p>\n",
       "</div>"
      ],
      "text/plain": [
       "       __typename brandType  contentDirectFeedbackPromptId  \\\n",
       "0  PropertyReview   Expedia                            NaN   \n",
       "1  PropertyReview   Expedia                            NaN   \n",
       "2  PropertyReview   Expedia                            NaN   \n",
       "3  PropertyReview   Expedia                            NaN   \n",
       "4  PropertyReview   Expedia                            NaN   \n",
       "\n",
       "  customData/doWeEndorseIt      customData/hotel  hotelId  \\\n",
       "0               no opinion  Prague Hotel Krystal   428588   \n",
       "1               no opinion  Prague Hotel Krystal   428588   \n",
       "2               no opinion  Prague Hotel Krystal   428588   \n",
       "3               no opinion  Prague Hotel Krystal   428588   \n",
       "4               no opinion  Prague Hotel Krystal   428588   \n",
       "\n",
       "                         id  impressionAnalytics  \\\n",
       "0  66b63b958397934320ad7f75                  NaN   \n",
       "1  66b503566a7cfe1353bdb91e                  NaN   \n",
       "2  66b4d8d6e6073643fd1b9cdc                  NaN   \n",
       "3  66b3c0f33677b72a4489b05f                  NaN   \n",
       "4  66b36f292fa7b179c05b6637                  NaN   \n",
       "\n",
       "       impressionAnalytics/__typename impressionAnalytics/event  ...  \\\n",
       "0                                 NaN                       NaN  ...   \n",
       "1                                 NaN                       NaN  ...   \n",
       "2                                 NaN                       NaN  ...   \n",
       "3                                 NaN                       NaN  ...   \n",
       "4  ClientSideImpressionEventAnalytics            Scroll reviews  ...   \n",
       "\n",
       "  translationInfo/loadingTranslationText translationInfo/seeOriginalText  \\\n",
       "0                                    NaN                             NaN   \n",
       "1                                    NaN                             NaN   \n",
       "2                                    NaN                             NaN   \n",
       "3                                    NaN                             NaN   \n",
       "4                                    NaN                             NaN   \n",
       "\n",
       "  translationInfo/targetLocale translationInfo/translatedBy/__typename  \\\n",
       "0                          NaN                                     NaN   \n",
       "1                          NaN                                     NaN   \n",
       "2                          NaN                                     NaN   \n",
       "3                          NaN                                     NaN   \n",
       "4                          NaN                                     NaN   \n",
       "\n",
       "  translationInfo/translatedBy/description  \\\n",
       "0                                      NaN   \n",
       "1                                      NaN   \n",
       "2                                      NaN   \n",
       "3                                      NaN   \n",
       "4                                      NaN   \n",
       "\n",
       "  translationInfo/translationCallToActionLabel  \\\n",
       "0                                          NaN   \n",
       "1                                          NaN   \n",
       "2                                          NaN   \n",
       "3                                          NaN   \n",
       "4                                          NaN   \n",
       "\n",
       "                               travelers/0           travelers/1 travelers/2  \\\n",
       "0  Traveled with family and small children  Traveled with family         NaN   \n",
       "1                     Traveled with family                   NaN         NaN   \n",
       "2  Traveled with family and small children                   NaN         NaN   \n",
       "3  Traveled with family and small children                   NaN         NaN   \n",
       "4                                      NaN                   NaN         NaN   \n",
       "\n",
       "  travelers/3  \n",
       "0         NaN  \n",
       "1         NaN  \n",
       "2         NaN  \n",
       "3         NaN  \n",
       "4         NaN  \n",
       "\n",
       "[5 rows x 120 columns]"
      ]
     },
     "execution_count": 4,
     "metadata": {},
     "output_type": "execute_result"
    }
   ],
   "source": [
    "#Reading the Review Data\n",
    "data = pd.read_csv('dataset_expedia-hotels-com-reviews-scraper_2024.csv')\n",
    "data.head()\n"
   ]
  },
  {
   "cell_type": "code",
   "execution_count": 5,
   "metadata": {},
   "outputs": [
    {
     "data": {
      "text/plain": [
       "(2412, 120)"
      ]
     },
     "execution_count": 5,
     "metadata": {},
     "output_type": "execute_result"
    }
   ],
   "source": [
    "data.shape"
   ]
  },
  {
   "cell_type": "markdown",
   "metadata": {},
   "source": [
    "# Sentiment Analysis using NLTK Vader"
   ]
  },
  {
   "cell_type": "code",
   "execution_count": 6,
   "metadata": {},
   "outputs": [],
   "source": [
    "def clean_reviews(df, min_length=10):\n",
    "#Drop Na values and Strip Whitespace\n",
    "    cleaned_reviews = df['text'].dropna().apply(lambda x: x.strip())\n",
    "\n",
    "    #Filter out reviews that are too short\n",
    "    cleaned_reviews = cleaned_reviews[cleaned_reviews.apply(lambda x: len(x) > min_length)]\n",
    "\n",
    "    return cleaned_reviews.tolist()\n",
    "\n",
    "#Clean the reviews\n",
    "cleaned_reviews = clean_reviews(data)"
   ]
  },
  {
   "cell_type": "code",
   "execution_count": 7,
   "metadata": {},
   "outputs": [
    {
     "data": {
      "text/plain": [
       "['The property was too large for my liking. The food was okay some days and not great at all some days. Definitely the food needs a upgrade especially the Italian food. The pool area was beautiful, but the pools had mold. Pools need to be cleaned better. and the Beach lets talk about the beach. Its horrible it has tons of sea weed. If you are going to this hotel for the beach forget it. reroute yourself else were. I would give this hotel a 3 out of 5. Maybe next time I would prefer the Grand. Its newer.',\n",
       " 'The stuff are very friendly,Food is excellent it has variety of food and restaurants.swimming pool is good it doesn’t have a good beach in fact we couldn’t use beach due to dirty so we spent more time on swim pool',\n",
       " 'Too big, no organized transportation and short staffed (get ready to wait for everything you do)',\n",
       " 'That they were really pushy when it comes to selling their other resorts. For example their day pass. They kept calling the room to see why we didn’t want to go',\n",
       " 'It was good experience, definitely worth it!']"
      ]
     },
     "execution_count": 7,
     "metadata": {},
     "output_type": "execute_result"
    }
   ],
   "source": [
    "cleaned_reviews[:5]"
   ]
  },
  {
   "cell_type": "code",
   "execution_count": 10,
   "metadata": {},
   "outputs": [
    {
     "name": "stdout",
     "output_type": "stream",
     "text": [
      "Sentiment\n",
      "positive    1237\n",
      "negative     315\n",
      "Name: count, dtype: int64\n"
     ]
    },
    {
     "data": {
      "image/png": "[encoded data removed]",
      "text/plain": [
       "<Figure size 600x400 with 1 Axes>"
      ]
     },
     "metadata": {},
     "output_type": "display_data"
    }
   ],
   "source": [
    "#Intialize VADER sentiment Analyzer\n",
    "vader_analyzer = SentimentIntensityAnalyzer()\n",
    "\n",
    "# Analyze sentiment using VADER\n",
    "vader_sentiments = []\n",
    "for review in cleaned_reviews:\n",
    "    score = vader_analyzer.polarity_scores(review)\n",
    "    sentiment = 'positive' if score['compound'] >= 0 else 'negative'\n",
    "    vader_sentiments.append(sentiment)\n",
    "\n",
    "# Create a DatraFrame to store the results\n",
    "vader_df = pd.DataFrame({'Review': cleaned_reviews, 'Sentiment': vader_sentiments})\n",
    "\n",
    "# Display sentiment counts\n",
    "print(vader_df['Sentiment'].value_counts())\n",
    "\n",
    "# Plot the sentiment distribution\n",
    "vader_df['Sentiment'].value_counts().plot(kind='bar', figsize=(6, 4), color=['skyblue', 'salmon'])\n",
    "plt.title('VADER Sentiment Analysis Results')\n",
    "plt.xlabel('Sentiment')\n",
    "plt.ylabel('Number of Reviews')\n",
    "plt.xticks(rotation=0)\n",
    "plt.show()"
   ]
  },
  {
   "cell_type": "markdown",
   "metadata": {},
   "source": [
    "# Sentiment Analysis using TextBlob"
   ]
  },
  {
   "cell_type": "code",
   "execution_count": null,
   "metadata": {},
   "outputs": [
    {
     "name": "stdout",
     "output_type": "stream",
     "text": [
      "Sentiment\n",
      "positive    1333\n",
      "negative     219\n",
      "Name: count, dtype: int64\n"
     ]
    },
    {
     "data": {
      "image/png": "[encoded data removed]",
      "text/plain": [
       "<Figure size 600x400 with 1 Axes>"
      ]
     },
     "metadata": {},
     "output_type": "display_data"
    }
   ],
   "source": [
    "from textblob import TextBlob\n",
    "\n",
    "# Analyze sentiment using TextBlob\n",
    "textblob_sentiments = []\n",
    "for review in cleaned_reviews:\n",
    "    analysis = TextBlob(review)\n",
    "    sentiment = 'positive' if analysis.sentiment.polarity >= 0 else 'negative'\n",
    "    textblob_sentiments.append(sentiment)\n",
    "\n",
    "# Create a DataFrame to store the results\n",
    "textblob_df = pd.DataFrame({'Review': cleaned_reviews, 'Sentiment': textblob_sentiments})\n",
    "\n",
    "# Display sentiment counts\n",
    "print(textblob_df['Sentiment'].value_counts())\n",
    "\n",
    "# Visualization\n",
    "textblob_df['Sentiment'].value_counts().plot(kind='bar', figsize=(6, 4), color=['skyblue', 'salmon'])\n",
    "plt.title('TextBlob Sentiment Analysis Results')\n",
    "plt.xlabel('Sentiment')\n",
    "plt.ylabel('Number of Reviews')\n",
    "plt.xticks(rotation=0)\n",
    "plt.show()\n"
   ]
  }
 ],
 "metadata": {
  "kernelspec": {
   "display_name": "Python 3",
   "language": "python",
   "name": "python3"
  },
  "language_info": {
   "codemirror_mode": {
    "name": "ipython",
    "version": 3
   },
   "file_extension": ".py",
   "mimetype": "text/x-python",
   "name": "python",
   "nbconvert_exporter": "python",
   "pygments_lexer": "ipython3",
   "version": "3.12.1"
  }
 },
 "nbformat": 4,
 "nbformat_minor": 2
}
